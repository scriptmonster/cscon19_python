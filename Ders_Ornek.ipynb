{
 "cells": [
  {
   "cell_type": "code",
   "execution_count": 2,
   "metadata": {},
   "outputs": [
    {
     "name": "stdout",
     "output_type": "stream",
     "text": [
      "Kilogram Giriniz: 3.5\n",
      "66.325\n"
     ]
    }
   ],
   "source": [
    "unit_price = 18.95\n",
    "\n",
    "def calc_price(price, weight):\n",
    "    return price * weight\n",
    "\n",
    "product_weight = float(input(\"Kilogram Giriniz: \"))\n",
    "print(calc_price(unit_price, product_weight))"
   ]
  },
  {
   "cell_type": "code",
   "execution_count": 12,
   "metadata": {},
   "outputs": [
    {
     "name": "stdout",
     "output_type": "stream",
     "text": [
      "Kilogram Giriniz: 3.5\n",
      "66.33\n"
     ]
    }
   ],
   "source": [
    "unit_price = 18.95\n",
    "product_weight = float(input(\"Kilogram Giriniz: \"))\n",
    "print('{0:.2f}'.format(unit_price * product_weight))"
   ]
  }
 ],
 "metadata": {
  "kernelspec": {
   "display_name": "Python 3",
   "language": "python",
   "name": "python3"
  },
  "language_info": {
   "codemirror_mode": {
    "name": "ipython",
    "version": 3
   },
   "file_extension": ".py",
   "mimetype": "text/x-python",
   "name": "python",
   "nbconvert_exporter": "python",
   "pygments_lexer": "ipython3",
   "version": "3.7.0"
  }
 },
 "nbformat": 4,
 "nbformat_minor": 2
}
