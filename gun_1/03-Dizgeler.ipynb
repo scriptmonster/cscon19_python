{
 "cells": [
  {
   "cell_type": "markdown",
   "metadata": {},
   "source": [
    "# Dizgeler (String)"
   ]
  },
  {
   "cell_type": "markdown",
   "metadata": {},
   "source": [
    "String Python içinde metinleri işlemek için kullanılır, örneğin insan isimlerini. Python'da stringler aslında bir dizidir. Bu dizide bütün harfler sıralı şekilde tutulmaktadır. Bu indeks kullanarak aradan istenilen harflerin seçilebileceği anlamına geliyor (örneğin ilk harf, son harf gibi).\n",
    "\n",
    "Python içindeki dizi mantığı oldukça önemlidir. Bu konu Pyton üzerinde tecrübeniz arttıkça karşınıza çıkacaktır.\n",
    "\n",
    "Bu başlık altında şu konuları inceleyeceğiz.\n",
    "\n",
    "    1. String Nesnesi Oluşturma\n",
    "    2. Stringleri Ekrana Basmak\n",
    "    3. String İndeksleri ve String Bölme\n",
    "    4. String Özellikleri\n",
    "    5. String Metodları\n",
    "    6. Ekrana Basarken Formatlama"
   ]
  },
  {
   "cell_type": "markdown",
   "metadata": {},
   "source": [
    "## String Nesnesi Oluşturma\n",
    "Python'da string nesnesi oluşturmak için tek tırnak ve çift tırnak kullanılır:"
   ]
  },
  {
   "cell_type": "code",
   "execution_count": 1,
   "metadata": {},
   "outputs": [
    {
     "data": {
      "text/plain": [
       "'merhaba'"
      ]
     },
     "execution_count": 1,
     "metadata": {},
     "output_type": "execute_result"
    }
   ],
   "source": [
    "# Tek kelime\n",
    "'merhaba'"
   ]
  },
  {
   "cell_type": "code",
   "execution_count": 2,
   "metadata": {},
   "outputs": [
    {
     "data": {
      "text/plain": [
       "'Gel beraber bir berber dükkanı açalım'"
      ]
     },
     "execution_count": 2,
     "metadata": {},
     "output_type": "execute_result"
    }
   ],
   "source": [
    "# Cümle \n",
    "'Gel beraber bir berber dükkanı açalım'"
   ]
  },
  {
   "cell_type": "code",
   "execution_count": 3,
   "metadata": {},
   "outputs": [
    {
     "data": {
      "text/plain": [
       "'Kedi koluma bir çift tırnak izi bıraktı.'"
      ]
     },
     "execution_count": 3,
     "metadata": {},
     "output_type": "execute_result"
    }
   ],
   "source": [
    "# Benzer şekilde çift tırnak da kullanabiliriz\n",
    "\"Kedi koluma bir çift tırnak izi bıraktı.\""
   ]
  },
  {
   "cell_type": "code",
   "execution_count": 4,
   "metadata": {},
   "outputs": [
    {
     "ename": "SyntaxError",
     "evalue": "invalid syntax (<ipython-input-4-8a1de58ff740>, line 2)",
     "output_type": "error",
     "traceback": [
      "\u001b[0;36m  File \u001b[0;32m\"<ipython-input-4-8a1de58ff740>\"\u001b[0;36m, line \u001b[0;32m2\u001b[0m\n\u001b[0;31m    'Ayşe'ler misafirliğe gelecekler'\u001b[0m\n\u001b[0m            ^\u001b[0m\n\u001b[0;31mSyntaxError\u001b[0m\u001b[0;31m:\u001b[0m invalid syntax\n"
     ]
    }
   ],
   "source": [
    "# Tırnakları kullanırken dikkatli olmak lazım!\n",
    "'Ayşe'ler misafirliğe gelecekler'"
   ]
  },
  {
   "cell_type": "code",
   "execution_count": 6,
   "metadata": {},
   "outputs": [
    {
     "data": {
      "text/plain": [
       "\"Ayşe'lerin işleri çıkmış!\""
      ]
     },
     "execution_count": 6,
     "metadata": {},
     "output_type": "execute_result"
    }
   ],
   "source": [
    "\"Ayşe'lerin işleri çıkmış!\""
   ]
  },
  {
   "cell_type": "code",
   "execution_count": 41,
   "metadata": {},
   "outputs": [
    {
     "data": {
      "text/plain": [
       "\"Ayşe'lerin işleri çıkmış!\""
      ]
     },
     "execution_count": 41,
     "metadata": {},
     "output_type": "execute_result"
    }
   ],
   "source": [
    "'''Ayşe'lerin işleri çıkmış!'''"
   ]
  },
  {
   "cell_type": "code",
   "execution_count": 42,
   "metadata": {},
   "outputs": [
    {
     "data": {
      "text/plain": [
       "' bu örnekte \"tırnak\" kullanalım '"
      ]
     },
     "execution_count": 42,
     "metadata": {},
     "output_type": "execute_result"
    }
   ],
   "source": [
    "\"\"\" bu örnekte \"tırnak\" kullanalım \"\"\""
   ]
  },
  {
   "cell_type": "code",
   "execution_count": 43,
   "metadata": {},
   "outputs": [
    {
     "data": {
      "text/plain": [
       "' \\'bu örnekte \"tırnak\" kullanalım\\' '"
      ]
     },
     "execution_count": 43,
     "metadata": {},
     "output_type": "execute_result"
    }
   ],
   "source": [
    "\"\"\" 'bu örnekte \"tırnak\" kullanalım' \"\"\""
   ]
  },
  {
   "cell_type": "markdown",
   "metadata": {},
   "source": [
    "## print() Fonksiyonu\n",
    "\n",
    "Kullandığımız araç olan Jupyter notebook üzerinde herhangi bir hücrenin içine yazdığıöız string otomatik olarak çıktı değeri olarak ekranda gösterilir. Fakat bu herzaman doğru bir yöntem değildir."
   ]
  },
  {
   "cell_type": "code",
   "execution_count": 7,
   "metadata": {},
   "outputs": [
    {
     "data": {
      "text/plain": [
       "'Hello World'"
      ]
     },
     "execution_count": 7,
     "metadata": {},
     "output_type": "execute_result"
    }
   ],
   "source": [
    "# Basitçe bir string tanımlayabiliriz\n",
    "'Hello World'"
   ]
  },
  {
   "cell_type": "code",
   "execution_count": 8,
   "metadata": {},
   "outputs": [
    {
     "data": {
      "text/plain": [
       "'Hello World 2'"
      ]
     },
     "execution_count": 8,
     "metadata": {},
     "output_type": "execute_result"
    }
   ],
   "source": [
    "# Burada birden fazla çıktı alamayacağımızı söylemekte fayda var.\n",
    "'Hello World 1'\n",
    "'Hello World 2'"
   ]
  },
  {
   "cell_type": "markdown",
   "metadata": {},
   "source": [
    "We can use a print statement to print a string."
   ]
  },
  {
   "cell_type": "code",
   "execution_count": 46,
   "metadata": {},
   "outputs": [
    {
     "name": "stdout",
     "output_type": "stream",
     "text": [
      "Hello World 1, ||Hello World 2\n",
      "Çoklu satıra yazdırabilmek için \n",
      " kullanılabilir.\n",
      "\n",
      "\n",
      "Ne demek istediğimi anlatabildim mi?\n"
     ]
    }
   ],
   "source": [
    "print('Hello World 1', end=', ||')\n",
    "print('Hello World 2')\n",
    "print('Çoklu satıra yazdırabilmek için \\n kullanılabilir.')\n",
    "print('\\n')\n",
    "print('Ne demek istediğimi anlatabildim mi?')"
   ]
  },
  {
   "cell_type": "markdown",
   "metadata": {},
   "source": [
    "## String Uzunluğu"
   ]
  },
  {
   "cell_type": "markdown",
   "metadata": {},
   "source": [
    "Bir string nesnesinin uzunluğunu Python'da tanımlı olan `len()` fonksiyonu ile öğrenebiliriz."
   ]
  },
  {
   "cell_type": "code",
   "execution_count": 53,
   "metadata": {},
   "outputs": [
    {
     "data": {
      "text/plain": [
       "3"
      ]
     },
     "execution_count": 53,
     "metadata": {},
     "output_type": "execute_result"
    }
   ],
   "source": [
    "len(str(100 + 50))"
   ]
  },
  {
   "cell_type": "code",
   "execution_count": 54,
   "metadata": {},
   "outputs": [
    {
     "data": {
      "text/plain": [
       "150"
      ]
     },
     "execution_count": 54,
     "metadata": {},
     "output_type": "execute_result"
    }
   ],
   "source": [
    "100 + 50"
   ]
  },
  {
   "cell_type": "code",
   "execution_count": 55,
   "metadata": {},
   "outputs": [
    {
     "data": {
      "text/plain": [
       "'150'"
      ]
     },
     "execution_count": 55,
     "metadata": {},
     "output_type": "execute_result"
    }
   ],
   "source": [
    "str(150)"
   ]
  },
  {
   "cell_type": "code",
   "execution_count": 56,
   "metadata": {},
   "outputs": [
    {
     "data": {
      "text/plain": [
       "3"
      ]
     },
     "execution_count": 56,
     "metadata": {},
     "output_type": "execute_result"
    }
   ],
   "source": [
    "len('150')"
   ]
  },
  {
   "cell_type": "markdown",
   "metadata": {},
   "source": [
    "Python's built-in len() function counts all of the characters in the string, including spaces and punctuation."
   ]
  },
  {
   "cell_type": "markdown",
   "metadata": {},
   "source": [
    "## String İndeksi\n",
    "Stringlerin birer dizi olduğunu biliyoruz. Bu Python stringin diziden belirli parçalarını alabilmek için indeks kullandığı anlamına gelir. Bunun nasıl çalıştığını görelim.\n",
    "\n",
    "Pyhon'da köşeli parentezleri `[]` nesnelerin indekslerini çağırmak için kullanıyoruz. Python'da indeks değeri 0'dan başlar. Şimdi bir `s` değişken tanımlayıp bunun üzerinden geçelim."
   ]
  },
  {
   "cell_type": "code",
   "execution_count": 58,
   "metadata": {},
   "outputs": [],
   "source": [
    "# Bir string olara s değişkenini\n",
    "s = 'Hello World'"
   ]
  },
  {
   "cell_type": "code",
   "execution_count": 12,
   "metadata": {},
   "outputs": [
    {
     "data": {
      "text/plain": [
       "'Hello World'"
      ]
     },
     "execution_count": 12,
     "metadata": {},
     "output_type": "execute_result"
    }
   ],
   "source": [
    "#Kontrol eledim\n",
    "s"
   ]
  },
  {
   "cell_type": "code",
   "execution_count": 13,
   "metadata": {},
   "outputs": [
    {
     "name": "stdout",
     "output_type": "stream",
     "text": [
      "Hello World\n"
     ]
    }
   ],
   "source": [
    "# hatta doğru yöntemle yapalım bir de, jupyter notebook yokmuş gibi\n",
    "print(s) "
   ]
  },
  {
   "cell_type": "markdown",
   "metadata": {},
   "source": [
    "İndekslemeye bakalım"
   ]
  },
  {
   "cell_type": "code",
   "execution_count": 14,
   "metadata": {},
   "outputs": [
    {
     "data": {
      "text/plain": [
       "'H'"
      ]
     },
     "execution_count": 14,
     "metadata": {},
     "output_type": "execute_result"
    }
   ],
   "source": [
    "# İlk elemana bakalım (stringlerde elemanlarımı karakterler olacak tabiki)\n",
    "s[0]"
   ]
  },
  {
   "cell_type": "code",
   "execution_count": 15,
   "metadata": {},
   "outputs": [
    {
     "data": {
      "text/plain": [
       "'e'"
      ]
     },
     "execution_count": 15,
     "metadata": {},
     "output_type": "execute_result"
    }
   ],
   "source": [
    "s[1]"
   ]
  },
  {
   "cell_type": "code",
   "execution_count": 16,
   "metadata": {},
   "outputs": [
    {
     "data": {
      "text/plain": [
       "'l'"
      ]
     },
     "execution_count": 16,
     "metadata": {},
     "output_type": "execute_result"
    }
   ],
   "source": [
    "s[2]"
   ]
  },
  {
   "cell_type": "markdown",
   "metadata": {},
   "source": [
    "`:` kullanaraka stringleri *kesebiliriz*. Burada işler biraz zorlaşıyor gibi ama çok eğlenceli."
   ]
  },
  {
   "cell_type": "code",
   "execution_count": 59,
   "metadata": {},
   "outputs": [
    {
     "data": {
      "text/plain": [
       "'Hello World'"
      ]
     },
     "execution_count": 59,
     "metadata": {},
     "output_type": "execute_result"
    }
   ],
   "source": [
    "# 1. elemanı geçtikten sonraki bütün karakterleri yakalar.\n",
    "s[0:]"
   ]
  },
  {
   "cell_type": "code",
   "execution_count": 18,
   "metadata": {},
   "outputs": [
    {
     "data": {
      "text/plain": [
       "'Hello World'"
      ]
     },
     "execution_count": 18,
     "metadata": {},
     "output_type": "execute_result"
    }
   ],
   "source": [
    "# Bu işlem orjinal değişkenimizde bir değişikliğe sebep olmaz\n",
    "s"
   ]
  },
  {
   "cell_type": "code",
   "execution_count": 19,
   "metadata": {},
   "outputs": [
    {
     "data": {
      "text/plain": [
       "'Hel'"
      ]
     },
     "execution_count": 19,
     "metadata": {},
     "output_type": "execute_result"
    }
   ],
   "source": [
    "# 3. indekse kadar bütün elemanları al\n",
    "s[:3]"
   ]
  },
  {
   "cell_type": "code",
   "execution_count": 20,
   "metadata": {},
   "outputs": [
    {
     "data": {
      "text/plain": [
       "'Hello World'"
      ]
     },
     "execution_count": 20,
     "metadata": {},
     "output_type": "execute_result"
    }
   ],
   "source": [
    "# Herşeyi tut getir\n",
    "s[:]"
   ]
  },
  {
   "cell_type": "markdown",
   "metadata": {},
   "source": [
    "Ayrıca negatif indeksleme de kullanabiliriz."
   ]
  },
  {
   "cell_type": "code",
   "execution_count": 61,
   "metadata": {},
   "outputs": [
    {
     "data": {
      "text/plain": [
       "'e'"
      ]
     },
     "execution_count": 61,
     "metadata": {},
     "output_type": "execute_result"
    }
   ],
   "source": [
    "# Son karakteri kap gel (index sıfırın altında olunca tersten dolanmaya başlıyoruz)\n",
    "s[-10]"
   ]
  },
  {
   "cell_type": "code",
   "execution_count": 62,
   "metadata": {},
   "outputs": [
    {
     "data": {
      "text/plain": [
       "'Hello Wo'"
      ]
     },
     "execution_count": 62,
     "metadata": {},
     "output_type": "execute_result"
    }
   ],
   "source": [
    "# Son karakter hariç hepsini al\n",
    "s[:-3]"
   ]
  },
  {
   "cell_type": "markdown",
   "metadata": {},
   "source": [
    "İndeks ve kesme notasyonlarını kullanarak adım sayısı ile elemanları basabiliriz. "
   ]
  },
  {
   "cell_type": "code",
   "execution_count": 23,
   "metadata": {},
   "outputs": [
    {
     "data": {
      "text/plain": [
       "'Hello World'"
      ]
     },
     "execution_count": 23,
     "metadata": {},
     "output_type": "execute_result"
    }
   ],
   "source": [
    "# Herşeyi yakala, fakat bu sefer adım sayımız 1\n",
    "s[::1]"
   ]
  },
  {
   "cell_type": "code",
   "execution_count": 70,
   "metadata": {},
   "outputs": [
    {
     "data": {
      "text/plain": [
       "'el ol'"
      ]
     },
     "execution_count": 70,
     "metadata": {},
     "output_type": "execute_result"
    }
   ],
   "source": [
    "# Herşeyi yakala, fakat bu sefer adım sayımız 2\n",
    "s[1::2]"
   ]
  },
  {
   "cell_type": "code",
   "execution_count": 25,
   "metadata": {},
   "outputs": [
    {
     "data": {
      "text/plain": [
       "'dlroW olleH'"
      ]
     },
     "execution_count": 25,
     "metadata": {},
     "output_type": "execute_result"
    }
   ],
   "source": [
    "# Adım sayısını ters kullanmak da mümkün!\n",
    "s[::-1]"
   ]
  },
  {
   "cell_type": "code",
   "execution_count": 63,
   "metadata": {},
   "outputs": [],
   "source": [
    "message = \"ita - Merhaba Dünya\""
   ]
  },
  {
   "cell_type": "code",
   "execution_count": 67,
   "metadata": {},
   "outputs": [
    {
     "name": "stdout",
     "output_type": "stream",
     "text": [
      "ita\n",
      "Merhaba Dünya\n"
     ]
    }
   ],
   "source": [
    "user_name = message[:3]\n",
    "print(user_name)\n",
    "message_text = message[6:]\n",
    "print(message_text)"
   ]
  },
  {
   "cell_type": "markdown",
   "metadata": {
    "collapsed": true
   },
   "source": [
    "## String Özellikleri\n",
    "Stringlerin değiştirelemez (**immutable**) olduğunu da hatırlatmak isterim. Bu nedemek?\n",
    "Bir string nesnesi oluşturulduğunda bu bu nesnenin elemaları değiltirilemez. Örneğin:"
   ]
  },
  {
   "cell_type": "code",
   "execution_count": 26,
   "metadata": {},
   "outputs": [
    {
     "data": {
      "text/plain": [
       "'Hello World'"
      ]
     },
     "execution_count": 26,
     "metadata": {},
     "output_type": "execute_result"
    }
   ],
   "source": [
    "s"
   ]
  },
  {
   "cell_type": "code",
   "execution_count": 27,
   "metadata": {},
   "outputs": [
    {
     "ename": "TypeError",
     "evalue": "'str' object does not support item assignment",
     "output_type": "error",
     "traceback": [
      "\u001b[0;31m---------------------------------------------------------------------------\u001b[0m",
      "\u001b[0;31mTypeError\u001b[0m                                 Traceback (most recent call last)",
      "\u001b[0;32m<ipython-input-27-7a78de9b7acb>\u001b[0m in \u001b[0;36m<module>\u001b[0;34m\u001b[0m\n\u001b[1;32m      1\u001b[0m \u001b[0;31m# Birinci karakterimizi küçük harfe çevirmeye çalışalım\u001b[0m\u001b[0;34m\u001b[0m\u001b[0;34m\u001b[0m\u001b[0m\n\u001b[0;32m----> 2\u001b[0;31m \u001b[0ms\u001b[0m\u001b[0;34m[\u001b[0m\u001b[0;36m0\u001b[0m\u001b[0;34m]\u001b[0m \u001b[0;34m=\u001b[0m \u001b[0;34m'h'\u001b[0m\u001b[0;34m\u001b[0m\u001b[0m\n\u001b[0m",
      "\u001b[0;31mTypeError\u001b[0m: 'str' object does not support item assignment"
     ]
    }
   ],
   "source": [
    "# Birinci karakterimizi küçük harfe çevirmeye çalışalım\n",
    "s[0] = 'h'"
   ]
  },
  {
   "cell_type": "markdown",
   "metadata": {},
   "source": [
    "Hata mesajı bize neyi yapamadığını direkt olarak söylediğini farketmeyen var mı?"
   ]
  },
  {
   "cell_type": "code",
   "execution_count": 28,
   "metadata": {},
   "outputs": [
    {
     "data": {
      "text/plain": [
       "'Hello World'"
      ]
     },
     "execution_count": 28,
     "metadata": {},
     "output_type": "execute_result"
    }
   ],
   "source": [
    "s"
   ]
  },
  {
   "cell_type": "code",
   "execution_count": 29,
   "metadata": {},
   "outputs": [
    {
     "data": {
      "text/plain": [
       "'Hello World, ben İsmail'"
      ]
     },
     "execution_count": 29,
     "metadata": {},
     "output_type": "execute_result"
    }
   ],
   "source": [
    "# String birleştirelim\n",
    "s + ', ben İsmail'"
   ]
  },
  {
   "cell_type": "code",
   "execution_count": 30,
   "metadata": {},
   "outputs": [],
   "source": [
    "# Burada daha önceden gördüğümüz gibi tekrar atama da yapabilirdik.\n",
    "s = s + ', ben İsmail!'"
   ]
  },
  {
   "cell_type": "code",
   "execution_count": 31,
   "metadata": {},
   "outputs": [
    {
     "name": "stdout",
     "output_type": "stream",
     "text": [
      "Hello World, ben İsmail!\n"
     ]
    }
   ],
   "source": [
    "print(s)"
   ]
  },
  {
   "cell_type": "code",
   "execution_count": 32,
   "metadata": {},
   "outputs": [
    {
     "data": {
      "text/plain": [
       "'Hello World, ben İsmail!'"
      ]
     },
     "execution_count": 32,
     "metadata": {},
     "output_type": "execute_result"
    }
   ],
   "source": [
    "s"
   ]
  },
  {
   "cell_type": "markdown",
   "metadata": {},
   "source": [
    "Çarpma operatörünü `*` kullanarak tekrarlama işlemi yapabiliriz"
   ]
  },
  {
   "cell_type": "code",
   "execution_count": 71,
   "metadata": {},
   "outputs": [],
   "source": [
    "letter = 'Bir daha yaramazlık yapmayacağım!\\n'"
   ]
  },
  {
   "cell_type": "code",
   "execution_count": 74,
   "metadata": {},
   "outputs": [
    {
     "data": {
      "text/plain": [
       "'Bir daha yaramazlık yapmayacağım!\\nBir daha yaramazlık yapmayacağım!\\nBir daha yaramazlık yapmayacağım!\\nBir daha yaramazlık yapmayacağım!\\nBir daha yaramazlık yapmayacağım!\\nBir daha yaramazlık yapmayacağım!\\nBir daha yaramazlık yapmayacağım!\\nBir daha yaramazlık yapmayacağım!\\nBir daha yaramazlık yapmayacağım!\\nBir daha yaramazlık yapmayacağım!\\n'"
      ]
     },
     "execution_count": 74,
     "metadata": {},
     "output_type": "execute_result"
    }
   ],
   "source": [
    "letter * 10 "
   ]
  },
  {
   "cell_type": "markdown",
   "metadata": {},
   "source": [
    "## Bazı String Metodları\n",
    "\n",
    "Python'da neslerin içinde tanımlı gömülü metodlar vardır. Bu metodlar aslında nesnelerin içerisinde tanımlı fonksiyonlardır (detaylarına daha sonra değineceğiz). Bir takım askiyonları almak veya nesnenin kendi üzerinde komutlar koşmak için metodları kullanırız.\n",
    "\n",
    "Nesne'nin adından sonra `.` ve sonrasında metod'un adı şeklinde kullanabiliriz. Metod kullanımı genelde aşağıdaki gibidir:\n",
    "\n",
    "`nesne.metod(parametreler)`\n",
    "\n",
    "Parametreler metoda geçebileceğimi ekstra argümanlardır. Burayı sindirmek yeni başlayanlar için biraz zaman alabilir, zamanla daha iyi kavranacaktır.\n",
    "\n",
    "String nesleri üzerindeki gömülü metodları bir kısmı şöyle:"
   ]
  },
  {
   "cell_type": "code",
   "execution_count": 75,
   "metadata": {},
   "outputs": [
    {
     "data": {
      "text/plain": [
       "34"
      ]
     },
     "execution_count": 75,
     "metadata": {},
     "output_type": "execute_result"
    }
   ],
   "source": [
    "len(letter)"
   ]
  },
  {
   "cell_type": "code",
   "execution_count": 35,
   "metadata": {},
   "outputs": [
    {
     "data": {
      "text/plain": [
       "'Hello World, ben İsmail!'"
      ]
     },
     "execution_count": 35,
     "metadata": {},
     "output_type": "execute_result"
    }
   ],
   "source": [
    "s"
   ]
  },
  {
   "cell_type": "code",
   "execution_count": 36,
   "metadata": {},
   "outputs": [
    {
     "data": {
      "text/plain": [
       "'HELLO WORLD, BEN İSMAIL!'"
      ]
     },
     "execution_count": 36,
     "metadata": {},
     "output_type": "execute_result"
    }
   ],
   "source": [
    "# Büyük harfe çevirme\n",
    "s.upper()"
   ]
  },
  {
   "cell_type": "code",
   "execution_count": 37,
   "metadata": {},
   "outputs": [
    {
     "data": {
      "text/plain": [
       "'hello world, ben i̇smail!'"
      ]
     },
     "execution_count": 37,
     "metadata": {},
     "output_type": "execute_result"
    }
   ],
   "source": [
    "# Küçük harfe çevirme\n",
    "s.lower()"
   ]
  },
  {
   "cell_type": "code",
   "execution_count": 38,
   "metadata": {},
   "outputs": [
    {
     "data": {
      "text/plain": [
       "['Hello', 'World,', 'ben', 'İsmail!']"
      ]
     },
     "execution_count": 38,
     "metadata": {},
     "output_type": "execute_result"
    }
   ],
   "source": [
    "# Stringi boşluk karakterlerinden bölme\n",
    "s.split()"
   ]
  },
  {
   "cell_type": "code",
   "execution_count": 82,
   "metadata": {},
   "outputs": [
    {
     "data": {
      "text/plain": [
       "['Hell', ' W', 'rld, ben İsmail!']"
      ]
     },
     "execution_count": 82,
     "metadata": {},
     "output_type": "execute_result"
    }
   ],
   "source": [
    "# String herhangi bir karakterle bölme. Bölme karakteri böldükten sonra kaybolur.\n",
    "s = 'Hello World, ben İsmail!'\n",
    "my_words = s.split('o')"
   ]
  },
  {
   "cell_type": "markdown",
   "metadata": {},
   "source": [
    "Burada bahsettiğimizden çok daha fazla metod var."
   ]
  },
  {
   "cell_type": "code",
   "execution_count": 90,
   "metadata": {},
   "outputs": [
    {
     "name": "stdout",
     "output_type": "stream",
     "text": [
      "Fıstıkçı Şahap ÇİĞERİMİ SÖKTÜ.\n",
      "Fistikçi Şahap ÇİĞERİMİ SÖKTÜ.\n"
     ]
    },
    {
     "data": {
      "text/plain": [
       "'Fistikci Sahap CIGERIMI SOKTU.'"
      ]
     },
     "execution_count": 90,
     "metadata": {},
     "output_type": "execute_result"
    }
   ],
   "source": [
    "my_turkish_text= 'Fıstıkçı Şahap ÇİĞERİMİ SÖKTÜ.'\n",
    "my_ascii_text = my_turkish_text.replace('ı', 'i')\n",
    "print(my_turkish_text)\n",
    "print(my_ascii_text)\n",
    "\n",
    "trans_table = str.maketrans('ıçŞÇİĞÖÜ', 'icSCIGOU')\n",
    "my_turkish_text.translate(trans_table)"
   ]
  },
  {
   "cell_type": "markdown",
   "metadata": {},
   "source": [
    "## String Formatlama\n",
    "\n",
    "`.format()` metodunu kullanarak string içerisinde formatlama yapmamızı sağlar. Basitçe örnek verecek olursak:"
   ]
  },
  {
   "cell_type": "code",
   "execution_count": 96,
   "metadata": {},
   "outputs": [
    {
     "name": "stdout",
     "output_type": "stream",
     "text": [
      "\n",
      "Sayın Ahmet Bey;\n",
      "\n",
      "Sitemize hoş geldiniz.\n",
      "\n",
      "İyi günler Ahmet Bey.\n",
      "\n",
      "Saygılar\n",
      "\n"
     ]
    }
   ],
   "source": [
    "my_pattern = '''\n",
    "Sayın {name} {suffix};\n",
    "\n",
    "Sitemize hoş geldiniz.\n",
    "\n",
    "İyi günler {name} {suffix}.\n",
    "\n",
    "Saygılar\n",
    "'''\n",
    "print(my_pattern.format(name='Ahmet', suffix='Bey'))\n"
   ]
  }
 ],
 "metadata": {
  "kernelspec": {
   "display_name": "Python 3",
   "language": "python",
   "name": "python3"
  },
  "language_info": {
   "codemirror_mode": {
    "name": "ipython",
    "version": 3
   },
   "file_extension": ".py",
   "mimetype": "text/x-python",
   "name": "python",
   "nbconvert_exporter": "python",
   "pygments_lexer": "ipython3",
   "version": "3.7.0"
  }
 },
 "nbformat": 4,
 "nbformat_minor": 1
}
