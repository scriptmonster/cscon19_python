{
 "cells": [
  {
   "cell_type": "markdown",
   "metadata": {},
   "source": [
    "# if, elif, else İfadeleri\n",
    "\n",
    "<code>if</code> (eğer) ifadeleri, bilgisayarınızı alternatif aksiyonlar almasını sağları.\n",
    "\n",
    "Sözlü olarak bilgisayar şunu söylemiş oluyoruz:\n",
    "\n",
    "\"Hey dostum, eğer bu olursa, şu işlemi yap!\"\n",
    "\n",
    "Bunu bu durumu <code>elif</code> ve <code>else</code> ifadeleriyle genişletebiliriz. Bu sayede bilgisayara şunu söyleyebiliriz:\n",
    "\n",
    "\"Hey dostum, eğer durum gerçekleşirse, bazı işlemler yap. Eğer başka bir durum gerçekleşirse, diğer bazı işlemler yap. Eğer önceki durumların hiç biri gerçekleşmezse, o zaman bunu yap.\"\n",
    "\n",
    "Bu ifadenin kod haline bir göz atarsak, <code>if</code> ifadelerini daha iyi anlayabiliriz.\n",
    "\n",
    "    if durum 1:\n",
    "        1. Aksiyonu al\n",
    "    elif durum 2:\n",
    "        2. Aksiyonu al\n",
    "    else: \n",
    "        3. Aksiyonu al"
   ]
  },
  {
   "cell_type": "markdown",
   "metadata": {},
   "source": [
    "## İlk Örnek\n",
    "Hızlıca bir örneğini görelim:"
   ]
  },
  {
   "cell_type": "code",
   "execution_count": 10,
   "metadata": {},
   "outputs": [
    {
     "name": "stdout",
     "output_type": "stream",
     "text": [
      "Bu yanlış!\n"
     ]
    }
   ],
   "source": [
    "if True:\n",
    "    print('Bu doğru!')\n",
    "else:\n",
    "    print('Bu yanlış!')"
   ]
  },
  {
   "cell_type": "markdown",
   "metadata": {},
   "source": [
    "Değilse mantığı ekleyelim"
   ]
  },
  {
   "cell_type": "code",
   "execution_count": 11,
   "metadata": {},
   "outputs": [
    {
     "name": "stdout",
     "output_type": "stream",
     "text": [
      "x Doğrudur!\n"
     ]
    }
   ],
   "source": [
    "x = True\n",
    "\n",
    "if x:\n",
    "    print('x Doğrudur!')\n",
    "else:\n",
    "    print('x\\'in doğru olmadığı durumlarda bu yazdırılacak')"
   ]
  },
  {
   "cell_type": "code",
   "execution_count": 14,
   "metadata": {},
   "outputs": [
    {
     "name": "stdout",
     "output_type": "stream",
     "text": [
      "Üniversiteye Hoşgeldin!\n"
     ]
    }
   ],
   "source": [
    "loc = 'ÜniVersite'\n",
    "\n",
    "if loc == 'Ev':\n",
    "    print('Eve Hoşgeldin!')\n",
    "elif loc.lower() == 'üniversite':\n",
    "    print('Üniversiteye Hoşgeldin!')\n",
    "else:\n",
    "    print('Neredesin?')"
   ]
  },
  {
   "cell_type": "code",
   "execution_count": 4,
   "metadata": {},
   "outputs": [
    {
     "name": "stdout",
     "output_type": "stream",
     "text": [
      "Hoşgeldin İsmail!\n"
     ]
    }
   ],
   "source": [
    "person = 'İsmail'\n",
    "\n",
    "if person == 'İsmail':\n",
    "    print('Hoşgeldin İsmail!')\n",
    "else:\n",
    "    print(\"Hoşgeldin, adın nedir?\")"
   ]
  },
  {
   "cell_type": "code",
   "execution_count": 5,
   "metadata": {},
   "outputs": [
    {
     "name": "stdout",
     "output_type": "stream",
     "text": [
      "Hoşgeldin Ayşe!\n"
     ]
    }
   ],
   "source": [
    "person = 'Ayşe'\n",
    "\n",
    "if person == 'Ayşe':\n",
    "    print('Hoşgeldin Ayşe!')\n",
    "elif person =='Tarık':\n",
    "    print('Hoşgeldin Tarık!')\n",
    "else:\n",
    "    print(\"Hoşgeldin, adın nedir?\")"
   ]
  }
 ],
 "metadata": {
  "kernelspec": {
   "display_name": "Python 3",
   "language": "python",
   "name": "python3"
  },
  "language_info": {
   "codemirror_mode": {
    "name": "ipython",
    "version": 3
   },
   "file_extension": ".py",
   "mimetype": "text/x-python",
   "name": "python",
   "nbconvert_exporter": "python",
   "pygments_lexer": "ipython3",
   "version": "3.7.0"
  }
 },
 "nbformat": 4,
 "nbformat_minor": 1
}
