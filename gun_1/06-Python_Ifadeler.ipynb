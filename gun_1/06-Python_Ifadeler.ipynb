{
 "cells": [
  {
   "cell_type": "markdown",
   "metadata": {
    "slideshow": {
     "slide_type": "slide"
    }
   },
   "source": [
    "# Python'da İfadeler\n",
    "\n",
    "Bu başlıkta Python ifadelerine değineceğiz. Python ifadelerinin diğer dillerden farklılıklarının altını çizeceğiz.\n",
    "\n",
    "Bu yaklaşımı kullanmanın iki amacı var:\n",
    "\n",
    "    1. Eğer başka bir programlama dilinden geliyorsanız, bu Python'u çok daha hızlı anlamanızı sağlayacak.\n",
    "    2. İfadeleri öğrenmek, gelecekte diğer dilleri de kolay okumanıza yardımcı olacak."
   ]
  },
  {
   "cell_type": "markdown",
   "metadata": {
    "slideshow": {
     "slide_type": "slide"
    }
   },
   "source": [
    "## Python ve Diğer Diller\n",
    "\n",
    "Kısa bir ifade oluşturarak başlayalım:\n",
    "\"Eğer a büyükse b^den, a'ya iki ata ve b'ye 4 ata:\n",
    "\n",
    "**Versiyon 1 (Diğer Diller)**\n",
    "\n",
    "    if (a > b){\n",
    "        a = 2;\n",
    "        b = 4;\n",
    "    }\n",
    "                        \n",
    "**Versiyon 2 (Python)**   \n",
    "\n",
    "    if a > b:\n",
    "        a = 2\n",
    "        b = 4"
   ]
  },
  {
   "cell_type": "markdown",
   "metadata": {},
   "source": [
    "Python'un diğer dillere göre daha az karışı olduğunu ve daha okunabilir olduğunu farketmişsinizdir. Peki Python bunu nasıl yapıyor?\n",
    "\n",
    "Temel farklara bakalım:\n",
    "    \n",
    "    * Python parantez ve süslü parantezleri kullanmaz. `:` ve *boşluk* karatkerlei kullanarak ifadenin sınırlarını belirler.\n",
    "    * Bir diğer önemli fark ise satır sonlarındaki `;` karakterinin Python'da olmaması. \n",
    "\n",
    "\n",
    "## Girintiler\n",
    "\n",
    "**Diğer Diller**\n",
    "\n",
    "    if (x)\n",
    "        if(y)\n",
    "            code-statement;\n",
    "    else\n",
    "        another-code-statement;\n",
    "        \n",
    "**Python**\n",
    "    \n",
    "    if x:\n",
    "        if y:\n",
    "            code-statement\n",
    "    else:\n",
    "        another-code-statement"
   ]
  },
  {
   "cell_type": "markdown",
   "metadata": {},
   "source": [
    "Python görüldüğü gibi girintileri ve boşlukları yapısı itibariyle çokça kullanır, Kod okunulabilirliğinin Python tasarımının temellerinden birisi olduğunu gösterir."
   ]
  },
  {
   "cell_type": "markdown",
   "metadata": {
    "collapsed": true
   },
   "source": [
    "## Kodlama Zamanı!"
   ]
  },
  {
   "cell_type": "code",
   "execution_count": null,
   "metadata": {},
   "outputs": [],
   "source": []
  }
 ],
 "metadata": {
  "kernelspec": {
   "display_name": "Python 3",
   "language": "python",
   "name": "python3"
  },
  "language_info": {
   "codemirror_mode": {
    "name": "ipython",
    "version": 3
   },
   "file_extension": ".py",
   "mimetype": "text/x-python",
   "name": "python",
   "nbconvert_exporter": "python",
   "pygments_lexer": "ipython3",
   "version": "3.7.0"
  }
 },
 "nbformat": 4,
 "nbformat_minor": 1
}
