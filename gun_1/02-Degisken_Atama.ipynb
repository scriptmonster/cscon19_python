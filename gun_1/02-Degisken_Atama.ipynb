{
 "cells": [
  {
   "cell_type": "markdown",
   "metadata": {},
   "source": [
    "# Değişken Atama\n",
    "\n",
    "## Değişken adı verirken kurallar\n",
    "* Değişken adları rakamla başlayamaz.\n",
    "* Değişken adları boşluk içeremez, bunun yerine _ kullanabilirsiniz.\n",
    "* Bu sembolleri de kullanamayız:\n",
    "\n",
    "      :'\",<>/?|\\!@#%^&*~-+()\n",
    "       \n",
    "* Küçük harflerin ve ayıraç olarak altçizgi (_) kullanılması tavsiye edilir ([PEP8](https://www.python.org/dev/peps/pep-0008/#function-and-variable-names))\n",
    "* Küçük 'l' (Lüleburgaz'ın le'si), büyük 'O' (Ordu'nun o'su) ve büyük 'I' (Iğdır'ın ı'sı) harflerini tek harflik değişken adı verirken kullanımından kaçınılmalıdır.\n",
    "* Python içinde özel anlamı olan kelimelerin değişken ismi olarak kullanılmasında kaçınılmalıdır. Örneğin \"list\", \"str\" vb.\n"
   ]
  },
  {
   "cell_type": "markdown",
   "metadata": {},
   "source": [
    "## Dinamik Yazım (Dynamic Typing)\n",
    "\n",
    "Python dinamik yazım kullanır, bu bir değişkene farklı veri tiplerin tekrar atayabileceğimiz anlamına gelir. Bu farklı veri tiplerinin esnek ve çok kolay bir şekilde atanmasını sağlar. Bu statik yazımlı (statically typed) dillerden python'u ayırır."
   ]
  },
  {
   "cell_type": "code",
   "execution_count": 1,
   "metadata": {},
   "outputs": [],
   "source": [
    "kedicikler = 2"
   ]
  },
  {
   "cell_type": "code",
   "execution_count": 2,
   "metadata": {},
   "outputs": [
    {
     "data": {
      "text/plain": [
       "2"
      ]
     },
     "execution_count": 2,
     "metadata": {},
     "output_type": "execute_result"
    }
   ],
   "source": [
    "kedicikler"
   ]
  },
  {
   "cell_type": "code",
   "execution_count": 3,
   "metadata": {},
   "outputs": [],
   "source": [
    "kedicikler = ['Minnoş', 'Tekir']"
   ]
  },
  {
   "cell_type": "code",
   "execution_count": 4,
   "metadata": {},
   "outputs": [
    {
     "data": {
      "text/plain": [
       "['Minnoş', 'Tekir']"
      ]
     },
     "execution_count": 4,
     "metadata": {},
     "output_type": "execute_result"
    }
   ],
   "source": [
    "kedicikler"
   ]
  },
  {
   "cell_type": "markdown",
   "metadata": {},
   "source": [
    "### Dinamik Yazımın Avantaj ve Dezavantajları\n",
    "#### Avantajlar\n",
    "* Kullanması çok kolay\n",
    "* Daha hızlı geliştirme\n",
    "\n",
    "#### Dezavantajlar\n",
    "* Birçok beklenmedik hata!\n",
    "* veri tipininden haberdar olmak gerekir `type()`"
   ]
  },
  {
   "cell_type": "markdown",
   "metadata": {},
   "source": [
    "## Değişken Atama\n",
    "Değişken atama `degisken_adi = nesne` şeklinde yapılır. Tek eşittir işareti `=` *atama operatörü* olarak kullanılır."
   ]
  },
  {
   "cell_type": "code",
   "execution_count": 5,
   "metadata": {},
   "outputs": [],
   "source": [
    "a = 5"
   ]
  },
  {
   "cell_type": "code",
   "execution_count": 6,
   "metadata": {},
   "outputs": [
    {
     "data": {
      "text/plain": [
       "5"
      ]
     },
     "execution_count": 6,
     "metadata": {},
     "output_type": "execute_result"
    }
   ],
   "source": [
    "a"
   ]
  },
  {
   "cell_type": "markdown",
   "metadata": {},
   "source": [
    "Burda `5` tam sayı nesnesini `a` adındaki değişkene atıyoruz.<br>Şimdi `a` değişkenine başka birşey atayalım:"
   ]
  },
  {
   "cell_type": "code",
   "execution_count": 25,
   "metadata": {},
   "outputs": [],
   "source": [
    "a = 10"
   ]
  },
  {
   "cell_type": "code",
   "execution_count": 8,
   "metadata": {},
   "outputs": [
    {
     "data": {
      "text/plain": [
       "10"
      ]
     },
     "execution_count": 8,
     "metadata": {},
     "output_type": "execute_result"
    }
   ],
   "source": [
    "a"
   ]
  },
  {
   "cell_type": "markdown",
   "metadata": {},
   "source": [
    "Artık `10` yerine `a`'yı kullanabiliriz:"
   ]
  },
  {
   "cell_type": "code",
   "execution_count": 9,
   "metadata": {},
   "outputs": [
    {
     "data": {
      "text/plain": [
       "20"
      ]
     },
     "execution_count": 9,
     "metadata": {},
     "output_type": "execute_result"
    }
   ],
   "source": [
    "a + a"
   ]
  },
  {
   "cell_type": "markdown",
   "metadata": {},
   "source": [
    "## Değişkenlerin Tekrar Atanması\n",
    "Python değişken ataması esnasında aynı değişkeni referans olarak vermeyi mümkün kılar."
   ]
  },
  {
   "cell_type": "code",
   "execution_count": 10,
   "metadata": {},
   "outputs": [],
   "source": [
    "a = a + 10"
   ]
  },
  {
   "cell_type": "code",
   "execution_count": 11,
   "metadata": {},
   "outputs": [
    {
     "data": {
      "text/plain": [
       "20"
      ]
     },
     "execution_count": 11,
     "metadata": {},
     "output_type": "execute_result"
    }
   ],
   "source": [
    "a"
   ]
  },
  {
   "cell_type": "markdown",
   "metadata": {},
   "source": [
    "Bu işlemin kısa yolu da var aslında. Python bir değişkene toplama, çıkarma, çarpma ve bölme işlemleri tekrar atama ile yapabilmemiz için bize bazı operatörler sağlar: `+=`, `-=`, `*=`, ve `/=`."
   ]
  },
  {
   "cell_type": "code",
   "execution_count": 12,
   "metadata": {},
   "outputs": [],
   "source": [
    "a += 10"
   ]
  },
  {
   "cell_type": "code",
   "execution_count": 13,
   "metadata": {},
   "outputs": [
    {
     "data": {
      "text/plain": [
       "30"
      ]
     },
     "execution_count": 13,
     "metadata": {},
     "output_type": "execute_result"
    }
   ],
   "source": [
    "a"
   ]
  },
  {
   "cell_type": "code",
   "execution_count": 14,
   "metadata": {},
   "outputs": [],
   "source": [
    "a *= 2"
   ]
  },
  {
   "cell_type": "code",
   "execution_count": 15,
   "metadata": {},
   "outputs": [
    {
     "data": {
      "text/plain": [
       "60"
      ]
     },
     "execution_count": 15,
     "metadata": {},
     "output_type": "execute_result"
    }
   ],
   "source": [
    "a"
   ]
  },
  {
   "cell_type": "markdown",
   "metadata": {},
   "source": [
    "## Değişken Tiplerini `type()` ile Öğrenmek\n",
    "Nesnelerin tiplerinin Python'un `type()` fonksiyonunu kullanarak öğrenmek mümkündür. Bazı ortak veri tipleri:\n",
    "* **int** (tam sayılar)\n",
    "* **float** (ondalık sayılar)\n",
    "* **str** (metin)\n",
    "* **list**\n",
    "* **tuple**\n",
    "* **dict**\n",
    "* **set**\n",
    "* **bool**"
   ]
  },
  {
   "cell_type": "code",
   "execution_count": 26,
   "metadata": {},
   "outputs": [
    {
     "data": {
      "text/plain": [
       "int"
      ]
     },
     "execution_count": 26,
     "metadata": {},
     "output_type": "execute_result"
    }
   ],
   "source": [
    "type(a)"
   ]
  },
  {
   "cell_type": "code",
   "execution_count": 27,
   "metadata": {},
   "outputs": [
    {
     "data": {
      "text/plain": [
       "True"
      ]
     },
     "execution_count": 27,
     "metadata": {},
     "output_type": "execute_result"
    }
   ],
   "source": [
    "isinstance(a, int)"
   ]
  },
  {
   "cell_type": "code",
   "execution_count": 28,
   "metadata": {},
   "outputs": [],
   "source": [
    "a = (1,2)"
   ]
  },
  {
   "cell_type": "code",
   "execution_count": 29,
   "metadata": {},
   "outputs": [
    {
     "data": {
      "text/plain": [
       "tuple"
      ]
     },
     "execution_count": 29,
     "metadata": {},
     "output_type": "execute_result"
    }
   ],
   "source": [
    "type(a)"
   ]
  },
  {
   "cell_type": "markdown",
   "metadata": {},
   "source": [
    "## Bir Örnek Yapalım\n",
    "Bu örnek değişkenlerin hesaplamaları nasıl daha kolay takip edilebilir ve okunabilir olduğunu gösteriyor."
   ]
  },
  {
   "cell_type": "code",
   "execution_count": 19,
   "metadata": {},
   "outputs": [],
   "source": [
    "gelir = 100\n",
    "vergi_orani = 0.1\n",
    "vergi_miktari = gelir * vergi_orani"
   ]
  },
  {
   "cell_type": "code",
   "execution_count": 20,
   "metadata": {},
   "outputs": [
    {
     "data": {
      "text/plain": [
       "10.0"
      ]
     },
     "execution_count": 20,
     "metadata": {},
     "output_type": "execute_result"
    }
   ],
   "source": [
    "vergi_miktari"
   ]
  },
  {
   "cell_type": "markdown",
   "metadata": {},
   "source": [
    "Süper! Artık değiken atamaları ve tekarar atamaları öğrendik ve biraz da olsa pekiştirdik.<br>Sırada metinleri (string) öğreneceğiz."
   ]
  }
 ],
 "metadata": {
  "kernelspec": {
   "display_name": "Python 3",
   "language": "python",
   "name": "python3"
  },
  "language_info": {
   "codemirror_mode": {
    "name": "ipython",
    "version": 3
   },
   "file_extension": ".py",
   "mimetype": "text/x-python",
   "name": "python",
   "nbconvert_exporter": "python",
   "pygments_lexer": "ipython3",
   "version": "3.7.0"
  }
 },
 "nbformat": 4,
 "nbformat_minor": 2
}
