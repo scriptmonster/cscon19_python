{
 "cells": [
  {
   "cell_type": "markdown",
   "metadata": {},
   "source": [
    "# Python'da Sayılar ve Dahası\n",
    "\n",
    "Bu konuda Python'da sayıları ve bunları nasıl kullanacağımızı göreceğiz.\n",
    "\n",
    "Şu konuları göreceğiz:\n",
    "\n",
    "    1.) Python'da sayı tipleri\n",
    "    2.) Temel Aritmetik İşlemler\n",
    "    3.) Klasik Bölme ve Taban Bölme Arasındaki Farklar\n",
    "    4.) Python'da Nesne Atama"
   ]
  },
  {
   "cell_type": "markdown",
   "metadata": {},
   "source": [
    "## Sayı Tipleri\n",
    "\n",
    "Python'da birçok sayı tipi vardır. Biz tam sayılar (integer) ve ondalık sayılara (float) odaklanacağız.\n",
    "\n",
    "Tam sayılar pozitif ve negatif değerlerde olabilir. 2 ve -2 tam sayılara örnektir.\n",
    "\n",
    "Ondalık sayılar da önemlidir. Tam sayılarda olduğu gibi pozitif ve negatif olabilirler. Basit olarak virgüllü sayıları gösterebildikleri gibi üstel ifadeleri de gösterebilir. 2.0, -2.4 ondalık sayılara örnektir. Ayrıca 4E3 (4 çarpı 10 üzer 3) de bir ondalık sayı örneğidir.\n",
    "\n",
    "Şimdi temel birkaç aritmetik işlemle başlayalım."
   ]
  },
  {
   "cell_type": "markdown",
   "metadata": {},
   "source": [
    "### Temel Aritmetik İşlemler"
   ]
  },
  {
   "cell_type": "code",
   "execution_count": 2,
   "metadata": {},
   "outputs": [
    {
     "data": {
      "text/plain": [
       "8"
      ]
     },
     "execution_count": 2,
     "metadata": {},
     "output_type": "execute_result"
    }
   ],
   "source": [
    "# Toplama\n",
    "2 + 6"
   ]
  },
  {
   "cell_type": "code",
   "execution_count": 2,
   "metadata": {},
   "outputs": [
    {
     "data": {
      "text/plain": [
       "1"
      ]
     },
     "execution_count": 2,
     "metadata": {},
     "output_type": "execute_result"
    }
   ],
   "source": [
    "# Çıkarma\n",
    "2 - 1"
   ]
  },
  {
   "cell_type": "code",
   "execution_count": 4,
   "metadata": {},
   "outputs": [
    {
     "data": {
      "text/plain": [
       "4.6"
      ]
     },
     "execution_count": 4,
     "metadata": {},
     "output_type": "execute_result"
    }
   ],
   "source": [
    "# Çarpma\n",
    "2 * 2.3"
   ]
  },
  {
   "cell_type": "code",
   "execution_count": 4,
   "metadata": {},
   "outputs": [
    {
     "data": {
      "text/plain": [
       "1.5"
      ]
     },
     "execution_count": 4,
     "metadata": {},
     "output_type": "execute_result"
    }
   ],
   "source": [
    "# Bölme\n",
    "3 / 2"
   ]
  },
  {
   "cell_type": "code",
   "execution_count": 6,
   "metadata": {},
   "outputs": [
    {
     "data": {
      "text/plain": [
       "-2"
      ]
     },
     "execution_count": 6,
     "metadata": {},
     "output_type": "execute_result"
    }
   ],
   "source": [
    "# Taban Bölme\n",
    "-7 // 4"
   ]
  },
  {
   "cell_type": "markdown",
   "metadata": {},
   "source": [
    "**Allah Allah! Ben yanlış mı görüyorum, 7 bölü 4 1.75 olması gerekmiyor mu? 1 nereden çıktı?**\n",
    "\n",
    "Bu sonucu almamızın sebebi \"*taban*\" bölme kullanmamız. **//** operatorü ondalıklı sayıları bir alttaki tam sayıya yuvarlar ve o sonucu döner."
   ]
  },
  {
   "cell_type": "markdown",
   "metadata": {},
   "source": [
    "**Bölümden sonra kalanı nasıl bulacağız peki?**"
   ]
  },
  {
   "cell_type": "code",
   "execution_count": 6,
   "metadata": {},
   "outputs": [
    {
     "data": {
      "text/plain": [
       "3"
      ]
     },
     "execution_count": 6,
     "metadata": {},
     "output_type": "execute_result"
    }
   ],
   "source": [
    "# Modülo\n",
    "7 % 4"
   ]
  },
  {
   "cell_type": "markdown",
   "metadata": {},
   "source": [
    "7'nin içinde 4 bir tane var, geriye 3 kalır. **%** operatörü bölüm sonrasında kalan sayıyı döner."
   ]
  },
  {
   "cell_type": "code",
   "execution_count": 11,
   "metadata": {},
   "outputs": [
    {
     "data": {
      "text/plain": [
       "301030"
      ]
     },
     "execution_count": 11,
     "metadata": {},
     "output_type": "execute_result"
    }
   ],
   "source": [
    "# Kuvvet\n",
    "2 ** 1000000"
   ]
  },
  {
   "cell_type": "code",
   "execution_count": 12,
   "metadata": {},
   "outputs": [
    {
     "data": {
      "text/plain": [
       "2.0"
      ]
     },
     "execution_count": 12,
     "metadata": {},
     "output_type": "execute_result"
    }
   ],
   "source": [
    "# Karekök de alır mı, alır!\n",
    "4 ** 1/2"
   ]
  },
  {
   "cell_type": "code",
   "execution_count": 9,
   "metadata": {},
   "outputs": [
    {
     "data": {
      "text/plain": [
       "105"
      ]
     },
     "execution_count": 9,
     "metadata": {},
     "output_type": "execute_result"
    }
   ],
   "source": [
    "# İşlem önceliği Python'da da söz konusu\n",
    "2 + 10 * 10 + 3"
   ]
  },
  {
   "cell_type": "code",
   "execution_count": 10,
   "metadata": {},
   "outputs": [
    {
     "data": {
      "text/plain": [
       "156"
      ]
     },
     "execution_count": 10,
     "metadata": {},
     "output_type": "execute_result"
    }
   ],
   "source": [
    "# İşlem önceliğini parantezlerle değiştirebiliyoruz\n",
    "(2+10) * (10+3)"
   ]
  },
  {
   "cell_type": "markdown",
   "metadata": {},
   "source": [
    "## Değişken Atama\n",
    "\n",
    "Sayıları nasıl kullanacağımızı öğrendiğimize göre, elde ettiğimiz değerlere isim atamayı ve değişkenler oluşturmayı görelim.\n",
    "\n",
    "Değişkenlere isim atamak için tek eşittir **=** işaretini kullanıyoruz:"
   ]
  },
  {
   "cell_type": "code",
   "execution_count": 11,
   "metadata": {},
   "outputs": [],
   "source": [
    "# a adında bir nesne yaratıp, o nesneye 5 değerini atayalım\n",
    "a = 5"
   ]
  },
  {
   "cell_type": "markdown",
   "metadata": {},
   "source": [
    "Now if I call *a* in my Python script, Python will treat it as the number 5."
   ]
  },
  {
   "cell_type": "code",
   "execution_count": 12,
   "metadata": {},
   "outputs": [
    {
     "data": {
      "text/plain": [
       "10"
      ]
     },
     "execution_count": 12,
     "metadata": {},
     "output_type": "execute_result"
    }
   ],
   "source": [
    "# Nesneleri toplama\n",
    "a+a"
   ]
  },
  {
   "cell_type": "markdown",
   "metadata": {},
   "source": [
    "What happens on reassignment? Will Python let us write it over?"
   ]
  },
  {
   "cell_type": "code",
   "execution_count": 13,
   "metadata": {},
   "outputs": [],
   "source": [
    "# Tekrar atama\n",
    "a = 10"
   ]
  },
  {
   "cell_type": "code",
   "execution_count": 14,
   "metadata": {},
   "outputs": [
    {
     "data": {
      "text/plain": [
       "10"
      ]
     },
     "execution_count": 14,
     "metadata": {},
     "output_type": "execute_result"
    }
   ],
   "source": [
    "# Kontrol\n",
    "a"
   ]
  },
  {
   "cell_type": "markdown",
   "metadata": {},
   "source": [
    "Şimdi, Python bize daha önceden atanmış değişken adlarını tekrar atama imkanını veriyor. Hatta tekrar atama esnasında değişkenin kendisi de kullanılabilir. Örneğin:"
   ]
  },
  {
   "cell_type": "code",
   "execution_count": 15,
   "metadata": {},
   "outputs": [
    {
     "data": {
      "text/plain": [
       "10"
      ]
     },
     "execution_count": 15,
     "metadata": {},
     "output_type": "execute_result"
    }
   ],
   "source": [
    "# Kontrol edelim\n",
    "a"
   ]
  },
  {
   "cell_type": "code",
   "execution_count": 16,
   "metadata": {},
   "outputs": [],
   "source": [
    "# a yı tekrar atarken, yine a'yı kullanalım, hem de iki defa\n",
    "a = a + a"
   ]
  },
  {
   "cell_type": "code",
   "execution_count": 17,
   "metadata": {},
   "outputs": [
    {
     "data": {
      "text/plain": [
       "20"
      ]
     },
     "execution_count": 17,
     "metadata": {},
     "output_type": "execute_result"
    }
   ],
   "source": [
    "# Kontrol edelim \n",
    "a"
   ]
  },
  {
   "cell_type": "markdown",
   "metadata": {},
   "source": [
    "Değişken adlarını verirken, dikkat etmemiz gereken birkaç kural var:\n",
    "\n",
    "    1. Değişken adları rakamla başlayamaz.\n",
    "    2. Değişken adları boşluk içeremez, bunun yerine _ kullanabilirsiniz.\n",
    "    3. Bu sembolleri de kullanamayız :'\",<>/?|\\()!@#$%^&*~-+\n",
    "    4. Küçük harflerin kullanılması tavsiye edilir (PEP8)\n",
    "    5. Küçük 'l' (Lüleburgaz'ın le'si), büyük 'O' (Ordu'nun o'su) ve büyük 'I' (Iğdır'ın ı'sı) harflerini tek harflik değişken adı verirken kullanımından kaçınılmalıdır.\n",
    "    6. Python içinde özel anlamı olan kelimelerin değişken ismi olarak kullanılmasında kaçınılmalıdır. Örneğin \"list\", \"str\" vb.\n",
    "\n",
    "\n",
    "Anlamlı değişken adlarının kullanılması birçok konuda faydalı olacaktır. Görelim:"
   ]
  },
  {
   "cell_type": "code",
   "execution_count": 18,
   "metadata": {},
   "outputs": [],
   "source": [
    "# Nesne adlarının anlamlı olması kod'da ne olup bittiğini anlamak için çok faydalı olacaktır.\n",
    "gelir = 100\n",
    "\n",
    "vergi_orani = 0.1\n",
    "\n",
    "vergi_miktari = gelir * vergi_orani"
   ]
  },
  {
   "cell_type": "code",
   "execution_count": 19,
   "metadata": {},
   "outputs": [
    {
     "data": {
      "text/plain": [
       "10.0"
      ]
     },
     "execution_count": 19,
     "metadata": {},
     "output_type": "execute_result"
    }
   ],
   "source": [
    "# Vergi miktarını görelim!\n",
    "vergi_miktari"
   ]
  },
  {
   "cell_type": "markdown",
   "metadata": {},
   "source": [
    "Peki burada ne öğrendik? Pythonda sayılarla ilgili temelleri öğrendik. Temel aritmatik işlemleri yapmayı öğrendik, Python'u hesap makinası olarak kullanabilecek duruma geldik. Ardından değişken atamalarıyla öğrendiklerimiz toparladık.\n",
    "\n",
    "Belki biraz tekrar olacak ama sırada değişken atamalar var."
   ]
  }
 ],
 "metadata": {
  "anaconda-cloud": {},
  "kernelspec": {
   "display_name": "Python 3",
   "language": "python",
   "name": "python3"
  },
  "language_info": {
   "codemirror_mode": {
    "name": "ipython",
    "version": 3
   },
   "file_extension": ".py",
   "mimetype": "text/x-python",
   "name": "python",
   "nbconvert_exporter": "python",
   "pygments_lexer": "ipython3",
   "version": "3.7.0"
  }
 },
 "nbformat": 4,
 "nbformat_minor": 1
}
